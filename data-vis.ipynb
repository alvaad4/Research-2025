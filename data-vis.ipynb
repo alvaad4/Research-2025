{
 "cells": [
  {
   "cell_type": "code",
   "execution_count": 38,
   "id": "80b1568f",
   "metadata": {},
   "outputs": [],
   "source": [
    "import re\n",
    "import pandas as pd\n",
    "import seaborn as sns\n",
    "import matplotlib.pyplot as plt\n",
    "import os"
   ]
  },
  {
   "cell_type": "code",
   "execution_count": 40,
   "id": "5d7f5e5c",
   "metadata": {},
   "outputs": [
    {
     "data": {
      "text/plain": [
       "['deepseek.txt', 'gemma3.txt', 'llama.txt']"
      ]
     },
     "execution_count": 40,
     "metadata": {},
     "output_type": "execute_result"
    }
   ],
   "source": [
    "os.listdir('stats')"
   ]
  },
  {
   "cell_type": "code",
   "execution_count": null,
   "id": "594bfe75",
   "metadata": {},
   "outputs": [],
   "source": [
    "df = {}\n",
    "for filename in os.listdir('stats'):\n",
    "    #initialize data frame\n",
    "    columns = ['total duration','load duration', 'prompt eval count', 'prompt eval duration','prompt eval rate','eval count','eval duration','eval rate']\n",
    "    rows = []\n",
    "    current_row = []\n",
    "    with open(filename, 'r') as file:\n",
    "        for line in file:\n",
    "            pattern = r\"\\s(\\d+m)?(\\d+(\\.?\\d+)?)\"\n",
    "            result = re.search(pattern, line)\n",
    "            if not result:\n",
    "                continue\n",
    "            result = result.groups()\n",
    "            if result[0] != None:\n",
    "                minutes = int(result[0][:-1])\n",
    "                seconds = float(result[1])\n",
    "                current_row.append(minutes*60 + seconds)\n",
    "            else:\n",
    "                current_row.append(result[1])\n",
    "            if len(current_row) == len(columns):\n",
    "                rows.append(current_row)\n",
    "                current_row = []\n",
    "    #readlines, feed int othe reg expression, if there is mins, mult by 60 and add, then add that to the dataframe, if no mins, just add the secions into the dataframe\n",
    "    filename = filename.split('.')[0]\n",
    "    df[filename] = pd.DataFrame(rows, columns=columns)\n",
    "print(df)\n"
   ]
  },
  {
   "cell_type": "code",
   "execution_count": null,
   "id": "21883b65",
   "metadata": {},
   "outputs": [],
   "source": [
    "for key in df:\n",
    "\n",
    "#Histogram of eval rate\n",
    "    df[key]['eval rate'] = pd.to_numeric(df[key]['eval rate'])  # Convert or set invalids to NaN, likelt means our data is messy\n",
    "    sns.histplot(df[key]['eval rate'], bins=25, kde=True)\n",
    "    plt.title(\"Distribution of Eval Rate For \" + key)\n",
    "    plt.xlabel(\"Eval Rate (tokens/seconds)\")\n",
    "    plt.ylabel(\"Frequency\")\n",
    "    plt.show()\n",
    "\n"
   ]
  },
  {
   "cell_type": "code",
   "execution_count": null,
   "id": "da5a3586",
   "metadata": {},
   "outputs": [],
   "source": [
    "for key in df:\n",
    "\n",
    "#Histogram of eval rate\n",
    "    df[key]['total duration'] = pd.to_numeric(df[key]['total duration'])  # Convert or set invalids to NaN, likelt means our data is messy\n",
    "    sns.histplot(df[key]['total duration'], bins=25, kde=True)\n",
    "    plt.title(\"Distribution of Total Duration For \" + key)\n",
    "    plt.xlabel(\"Total Duration (seconds)\")\n",
    "    plt.ylabel(\"Frequency\")\n",
    "    plt.show()\n"
   ]
  },
  {
   "cell_type": "code",
   "execution_count": 2,
   "id": "661beebb",
   "metadata": {},
   "outputs": [
    {
     "data": {
      "text/plain": [
       "(None, '6.34235235', '.34235235')"
      ]
     },
     "execution_count": 2,
     "metadata": {},
     "output_type": "execute_result"
    }
   ],
   "source": [
    "import re\n",
    "\n",
    "text = ' 6.34235235s'\n",
    "pattern = r'\\s(\\d+m)?(\\d+(\\.?\\d+)?)'\n",
    "result = re.search(pattern, text)\n",
    "result.groups()"
   ]
  }
 ],
 "metadata": {
  "kernelspec": {
   "display_name": "Python 3",
   "language": "python",
   "name": "python3"
  },
  "language_info": {
   "codemirror_mode": {
    "name": "ipython",
    "version": 3
   },
   "file_extension": ".py",
   "mimetype": "text/x-python",
   "name": "python",
   "nbconvert_exporter": "python",
   "pygments_lexer": "ipython3",
   "version": "3.12.4"
  }
 },
 "nbformat": 4,
 "nbformat_minor": 5
}
