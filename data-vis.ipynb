{
 "cells": [
  {
   "cell_type": "code",
   "execution_count": 38,
   "id": "80b1568f",
   "metadata": {},
   "outputs": [],
   "source": [
    "import re\n",
    "import pandas as pd\n",
    "import seaborn as sns\n",
    "import matplotlib.pyplot as plt\n",
    "import os"
   ]
  },
  {
   "cell_type": "code",
   "execution_count": 40,
   "id": "5d7f5e5c",
   "metadata": {},
   "outputs": [
    {
     "data": {
      "text/plain": [
       "['deepseek.txt', 'gemma3.txt', 'llama.txt']"
      ]
     },
     "execution_count": 40,
     "metadata": {},
     "output_type": "execute_result"
    }
   ],
   "source": [
    "os.listdir('stats')"
   ]
  },
  {
   "cell_type": "code",
   "execution_count": 49,
   "id": "594bfe75",
   "metadata": {},
   "outputs": [
    {
     "name": "stdout",
     "output_type": "stream",
     "text": [
      "{'deepseek.txt':    total duration load duration prompt eval count prompt eval duration  \\\n",
      "0    52.174291698   5.784189167                 9            412.62666   \n",
      "1    41.265726893     13.870002                31          1.497430764   \n",
      "2      209.968987     13.603952                33          1.610630968   \n",
      "3       93.305495     14.060707                25          1.231209293   \n",
      "4    43.460212281     21.217541                17           842.117357   \n",
      "5      162.745018     13.585457                15           733.407037   \n",
      "6      101.878742     14.965472                14           692.177141   \n",
      "7      174.145475      13.94048                12           588.933392   \n",
      "8        65.11604     14.419202                18           902.759383   \n",
      "9      123.450595     14.014099                10           490.495889   \n",
      "10     319.679117     14.152983                50          2.516208417   \n",
      "11      72.338122     14.218967                 8           384.442165   \n",
      "12     700.247432     14.091899                34          1.784546646   \n",
      "13     151.725815     14.053929                23          1.210503373   \n",
      "14     209.387217     14.105459                13           672.362246   \n",
      "15      348.80605     14.199751                29          1.506581371   \n",
      "16     225.355352     14.324712                13           663.345642   \n",
      "17     117.272143     14.404372                21          1.096823333   \n",
      "18      82.960443     13.540144                17           870.145301   \n",
      "19      70.524489     34.850856                28          1.454432431   \n",
      "20   53.779010276     14.260357                30          1.552526465   \n",
      "21     127.467988     13.762494                15           766.129436   \n",
      "22      62.998914     13.872015                25          1.295507892   \n",
      "23      63.224766     14.034865                14           723.224903   \n",
      "24     100.303614      13.83081                12           611.146924   \n",
      "\n",
      "   prompt eval rate eval count eval duration eval rate  \n",
      "0             21.81        290  45.976746733      6.31  \n",
      "1             20.70        252  39.753821395      6.34  \n",
      "2             20.49       1272     208.34431      6.11  \n",
      "3             20.31        573     92.059803      6.22  \n",
      "4             20.19        267  42.596440693      6.27  \n",
      "5             20.45        994    161.997656      6.14  \n",
      "6             20.23        627     101.17097      6.20  \n",
      "7             20.38       1062    173.542207      6.12  \n",
      "8             19.94        400     64.198452      6.23  \n",
      "9             20.39        759    122.945582      6.17  \n",
      "10            19.87       1874    317.148331      5.91  \n",
      "11            20.81        441     71.939013      6.13  \n",
      "12            19.05       3914    698.448334      5.60  \n",
      "13            19.00        899     150.50084      5.97  \n",
      "14            19.33       1236    208.700293      5.92  \n",
      "15            19.25       2021    347.284879      5.82  \n",
      "16            19.60       1329    224.677197      5.92  \n",
      "17            19.15        698    116.160523      6.01  \n",
      "18            19.54        496     82.075821      6.04  \n",
      "19            19.25        418     69.034665      6.05  \n",
      "20            19.32        317  52.211808295      6.07  \n",
      "21            19.58        760    126.687624      6.00  \n",
      "22            19.30        374     61.689094      6.06  \n",
      "23            19.36        379     62.487081      6.07  \n",
      "24            19.64        601      99.67828      6.03  , 'gemma3.txt':    total duration load duration prompt eval count prompt eval duration  \\\n",
      "0    10.756246964    1.81508066                16           878.775446   \n",
      "1     5.783951737     64.763303                38           1.70618072   \n",
      "2     25.37369361     74.011943                40           1.80639671   \n",
      "3     15.83177629     75.182019                32          1.434249455   \n",
      "4    21.197959145      71.43863                24          1.006261894   \n",
      "5    37.019228716     48.461585                22           967.723528   \n",
      "6       89.082836     73.749397                21           888.219166   \n",
      "7     7.272003632      77.19427                19           775.672748   \n",
      "8     9.911626216     47.961031                26           1.13938888   \n",
      "9    31.386162561     57.526859                16           643.056101   \n",
      "10   18.884915817      76.99469                58          2.693078098   \n",
      "11   12.541096068     46.135528                15           586.875685   \n",
      "12      69.878116     74.071992                41          1.944671006   \n",
      "13      87.740164     74.871415                31          1.386915308   \n",
      "14     5.92009011     75.699464                20           829.939467   \n",
      "15   15.829532094     68.609841                36          1.659094831   \n",
      "16     123.927087     46.695558                20           896.516333   \n",
      "17   34.867696177     75.216499                28          1.279708748   \n",
      "18   33.801063913     75.940094                24          1.087159401   \n",
      "19     9.86015811     78.837351                35          1.547153705   \n",
      "20     8.11092128     74.779912                36           1.60141426   \n",
      "21      96.645606     69.327429                22           952.519558   \n",
      "22   16.546637518     52.064059                33          1.481007236   \n",
      "23   12.145962139       50.3131                21           941.680867   \n",
      "24   23.223755055     49.085584                19           848.384655   \n",
      "\n",
      "   prompt eval rate eval count eval duration eval rate  \n",
      "0             18.21         51   8.061693373      6.33  \n",
      "1             22.27         25   4.012446445      6.23  \n",
      "2             22.14        150  23.492775702      6.38  \n",
      "3             22.31         90  14.321842024      6.28  \n",
      "4             23.85        128  20.119737243      6.36  \n",
      "5             22.73        225  36.002530598      6.25  \n",
      "6             23.64        549     88.120349      6.23  \n",
      "7             24.49         41   6.418628998      6.39  \n",
      "8             22.82         57   8.723821642      6.53  \n",
      "9             24.88        194  30.685076562      6.32  \n",
      "10            21.54        102  16.114322261      6.33  \n",
      "11            25.56         76  11.907569576      6.38  \n",
      "12            21.08        416     67.858838      6.13  \n",
      "13            22.35        533     86.277892      6.18  \n",
      "14            24.10         32   5.013927418      6.38  \n",
      "15            21.70         91  14.101299329      6.45  \n",
      "16            22.31        761    122.983352      6.19  \n",
      "17            21.88        210  33.512226629      6.27  \n",
      "18            22.08        208  32.637473614      6.37  \n",
      "19            22.62         53   8.233342068      6.44  \n",
      "20            22.48         42   6.434233269      6.53  \n",
      "21            23.10        592     95.623255      6.19  \n",
      "22            22.28         94  15.013084713      6.26  \n",
      "23            22.30         70  11.153458397      6.28  \n",
      "24            22.40        134  22.325736713      6.00  , 'llama.txt':    total duration load duration prompt eval count prompt eval duration  \\\n",
      "0     2.195978983     31.094525                32          1.279674406   \n",
      "1     1.717597194     19.733864                54          1.502014683   \n",
      "2    10.557209961     30.443467                54          1.470069566   \n",
      "3     5.335164741     29.489431                48            1.1422492   \n",
      "4    18.004445653     18.283941                40           888.764089   \n",
      "5    35.206727379     29.059801                38           851.385981   \n",
      "6    13.694045521     29.830217                37           776.267024   \n",
      "7     8.786257322     17.732206                35            648.19505   \n",
      "8     2.537219654     29.812127                41           905.153625   \n",
      "9    25.434236179     28.538773                33           561.705626   \n",
      "10   12.653461801     29.470821                73          2.208737174   \n",
      "11    2.729652596     23.996719                31           494.865756   \n",
      "12   18.641573886     30.943226                55          1.591048654   \n",
      "13   24.292627375     29.639289                46          1.112780679   \n",
      "14    5.645063585   2.862269638                34          1.481366471   \n",
      "15   12.353879961     20.066767                52          1.330338958   \n",
      "16      75.687649     29.156413                36           704.852534   \n",
      "17   14.718705955   2.540830908                44          1.932473137   \n",
      "18   13.845748299     30.161815                40           897.336035   \n",
      "19    9.206297966     18.871321                51          1.370733782   \n",
      "20    7.333093543     24.685342                53          1.610924502   \n",
      "21   26.817663549     23.756168                38           824.941673   \n",
      "22    10.51815009     31.379069                48          1.257013565   \n",
      "23   14.307378291     30.544903                37           812.667638   \n",
      "24   24.641088109      20.94159                35           626.351694   \n",
      "\n",
      "   prompt eval rate eval count eval duration eval rate  \n",
      "0             25.01          8    884.722077      9.04  \n",
      "1             35.95          2    195.288231     10.24  \n",
      "2             36.73         71   9.056067573      7.84  \n",
      "3             42.02         34   4.162933843      8.17  \n",
      "4             45.01        140  17.096931367      8.19  \n",
      "5             44.63        276   34.32578447      8.04  \n",
      "6             47.66        110  12.887368786      8.54  \n",
      "7             54.00         74   8.119840297      9.11  \n",
      "8             45.30         14   1.601785855      8.74  \n",
      "9             58.75        197  24.843488482      7.93  \n",
      "10            33.05         82  10.414704725      7.87  \n",
      "11            62.64         14   2.210304486      6.33  \n",
      "12            34.57        134  17.019018597      7.87  \n",
      "13            41.34        179  23.149575784      7.73  \n",
      "14            22.95         11    1.30071072      8.46  \n",
      "15            39.09         86  11.002968911      7.82  \n",
      "16            51.07        550     74.953184      7.34  \n",
      "17            22.77         80  10.244687147      7.81  \n",
      "18            44.58        101  12.917649228      7.82  \n",
      "19            37.21         60   7.816202465      7.68  \n",
      "20            32.90         40   5.697023815      7.02  \n",
      "21            46.06        178  25.968489556      6.85  \n",
      "22            38.19         69   9.229268255      7.48  \n",
      "23            45.53        105  13.463653841      7.80  \n",
      "24            55.88        124  23.993290049      5.17  }\n"
     ]
    }
   ],
   "source": [
    "df = {}\n",
    "for filename in os.listdir('stats'):\n",
    "    #initialize data frame\n",
    "    columns = ['total duration','load duration', 'prompt eval count', 'prompt eval duration','prompt eval rate','eval count','eval duration','eval rate']\n",
    "    rows = []\n",
    "    current_row = []\n",
    "    with open(filename, 'r') as file:\n",
    "        for line in file:\n",
    "            pattern = r\"\\s(\\d+m)?(\\d+(\\.?\\d+)?)\"\n",
    "            result = re.search(pattern, line)\n",
    "            if not result:\n",
    "                continue\n",
    "            result = result.groups()\n",
    "            if result[0] != None:\n",
    "                minutes = int(result[0][:-1])\n",
    "                seconds = float(result[1])\n",
    "                current_row.append(minutes*60 + seconds)\n",
    "            else:\n",
    "                current_row.append(result[1])\n",
    "            if len(current_row) == len(columns):\n",
    "                rows.append(current_row)\n",
    "                current_row = []\n",
    "    #readlines, feed int othe reg expression, if there is mins, mult by 60 and add, then add that to the dataframe, if no mins, just add the secions into the dataframe\n",
    "    \n",
    "    df[filename] = pd.DataFrame(rows, columns=columns)\n",
    "print(df)\n"
   ]
  },
  {
   "cell_type": "code",
   "execution_count": 48,
   "id": "c2d7df34",
   "metadata": {},
   "outputs": [
    {
     "ename": "KeyError",
     "evalue": "'k'",
     "output_type": "error",
     "traceback": [
      "\u001b[31m---------------------------------------------------------------------------\u001b[39m",
      "\u001b[31mKeyError\u001b[39m                                  Traceback (most recent call last)",
      "\u001b[36mCell\u001b[39m\u001b[36m \u001b[39m\u001b[32mIn[48]\u001b[39m\u001b[32m, line 3\u001b[39m\n\u001b[32m      1\u001b[39m \u001b[38;5;66;03m#Histogram of eval rate for deepseek.txt\u001b[39;00m\n\u001b[32m----> \u001b[39m\u001b[32m3\u001b[39m df[\u001b[33m'\u001b[39m\u001b[33mdeepseek.txt\u001b[39m\u001b[33m'\u001b[39m[\u001b[32m7\u001b[39m]] = pd.to_numeric(\u001b[43mdf\u001b[49m\u001b[43m[\u001b[49m\u001b[33;43m'\u001b[39;49m\u001b[33;43mdeepseek.txt\u001b[39;49m\u001b[33;43m'\u001b[39;49m\u001b[43m[\u001b[49m\u001b[32;43m7\u001b[39;49m\u001b[43m]\u001b[49m\u001b[43m]\u001b[49m)  \u001b[38;5;66;03m# Convert or set invalids to NaN, likelt means our data is messy\u001b[39;00m\n\u001b[32m      5\u001b[39m sns.histplot(df[\u001b[33m'\u001b[39m\u001b[33mdeepseek.txt\u001b[39m\u001b[33m'\u001b[39m[\u001b[32m7\u001b[39m]], bins=\u001b[32m10\u001b[39m, kde=\u001b[38;5;28;01mTrue\u001b[39;00m)\n\u001b[32m      6\u001b[39m plt.title(\u001b[33m\"\u001b[39m\u001b[33mDistribution of Evaluation Times\u001b[39m\u001b[33m\"\u001b[39m)\n",
      "\u001b[31mKeyError\u001b[39m: 'k'"
     ]
    }
   ],
   "source": [
    "#Histogram of eval rate for deepseek.txt\n",
    "\n",
    "df['deepseek.txt'[7]] = pd.to_numeric(df['deepseek.txt'[7]])  # Convert or set invalids to NaN, likelt means our data is messy\n",
    "\n",
    "sns.histplot(df['deepseek.txt'[7]], bins=10, kde=True)\n",
    "plt.title(\"Distribution of Evaluation Times\")\n",
    "plt.xlabel(\"Eval Time (seconds)\")\n",
    "plt.ylabel(\"Frequency\")\n",
    "plt.show()\n"
   ]
  },
  {
   "cell_type": "code",
   "execution_count": 37,
   "id": "da5a3586",
   "metadata": {},
   "outputs": [
    {
     "data": {
      "image/png": "[encoded data removed]",
      "text/plain": [
       "<Figure size 640x480 with 1 Axes>"
      ]
     },
     "metadata": {},
     "output_type": "display_data"
    }
   ],
   "source": [
    "#Histogram of eval rate\n",
    "\n",
    "df['total duration'] = pd.to_numeric(df['total duration'])  # Convert or set invalids to NaN, likelt means our data is messy\n",
    "\n",
    "sns.histplot(df['total duration'], bins=25, kde=True)\n",
    "plt.title(\"Distribution of Total Times\")\n",
    "plt.xlabel(\"Total Time (seconds)\")\n",
    "plt.ylabel(\"Frequency\")\n",
    "plt.show()\n"
   ]
  },
  {
   "cell_type": "code",
   "execution_count": 2,
   "id": "661beebb",
   "metadata": {},
   "outputs": [
    {
     "data": {
      "text/plain": [
       "(None, '6.34235235', '.34235235')"
      ]
     },
     "execution_count": 2,
     "metadata": {},
     "output_type": "execute_result"
    }
   ],
   "source": [
    "import re\n",
    "\n",
    "text = ' 6.34235235s'\n",
    "pattern = r'\\s(\\d+m)?(\\d+(\\.?\\d+)?)'\n",
    "result = re.search(pattern, text)\n",
    "result.groups()"
   ]
  }
 ],
 "metadata": {
  "kernelspec": {
   "display_name": "Python 3",
   "language": "python",
   "name": "python3"
  },
  "language_info": {
   "codemirror_mode": {
    "name": "ipython",
    "version": 3
   },
   "file_extension": ".py",
   "mimetype": "text/x-python",
   "name": "python",
   "nbconvert_exporter": "python",
   "pygments_lexer": "ipython3",
   "version": "3.12.4"
  }
 },
 "nbformat": 4,
 "nbformat_minor": 5
}
