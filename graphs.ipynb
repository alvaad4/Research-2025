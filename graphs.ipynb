{
 "cells": [
  {
   "cell_type": "code",
   "execution_count": 3,
   "id": "945927bf",
   "metadata": {},
   "outputs": [],
   "source": [
    "import re\n",
    "import pandas as pd\n",
    "import seaborn as sns\n",
    "import matplotlib.pyplot as plt"
   ]
  },
  {
   "cell_type": "code",
   "execution_count": 4,
   "id": "fd647ff9",
   "metadata": {},
   "outputs": [
    {
     "name": "stdout",
     "output_type": "stream",
     "text": [
      "   total duration load duration prompt eval count prompt eval duration  \\\n",
      "0     4.175484246     36.669776                16            86.158192   \n",
      "1      2.83066848     37.467608                38           708.925162   \n",
      "2    21.202907893     38.496037                40           746.302332   \n",
      "3      7.47741603     37.168773                32           670.896921   \n",
      "4    12.162052326     56.497719                24            480.22984   \n",
      "5    19.461214432     37.572201                22           438.898331   \n",
      "6    46.403514532     36.547454                21           419.589603   \n",
      "7     4.436162761     36.550354                19           362.823836   \n",
      "8     5.436755418     39.982107                26           541.881371   \n",
      "9    21.359703119      36.13002                16           305.271101   \n",
      "10   16.076264637     40.088017                50          1.113888368   \n",
      "11    6.850157987     38.549176                15           277.685682   \n",
      "12     107.414877     36.549063                41           923.462479   \n",
      "13   57.666051324     36.099844                31           747.047519   \n",
      "14    3.134545318     36.493418                20           391.084718   \n",
      "15    7.806158596     36.527727                36           781.567018   \n",
      "16      66.283309     38.173864                20           388.251678   \n",
      "17   13.213621546     56.175826                28           594.693724   \n",
      "18   14.437225755     36.713408                24           503.785713   \n",
      "19    5.112559937     40.045852                35           765.088453   \n",
      "20    3.979699775     36.566114                36           788.467264   \n",
      "21   50.440179878     36.393611                22           463.632106   \n",
      "22     8.86607058     37.834333                33           717.978589   \n",
      "23    4.962533266     36.627393                21           444.744047   \n",
      "24   12.481467118     37.238369                19           363.608699   \n",
      "\n",
      "   prompt eval rate eval count eval duration eval rate  \n",
      "0            185.70         48   4.052233416     11.85  \n",
      "1             53.60         25   2.083790511     12.00  \n",
      "2             53.60        232  20.417698322     11.36  \n",
      "3             47.70         78   6.769007293     11.52  \n",
      "4             49.98        133  11.624934502     11.44  \n",
      "5             50.13        216  18.984412013     11.38  \n",
      "6             50.05        516  45.946994531     11.23  \n",
      "7             52.37         47   4.036359737     11.64  \n",
      "8             47.98         56   4.854422703     11.54  \n",
      "9             52.41        238  21.017941969     11.32  \n",
      "10            44.89        171  14.921857148     11.46  \n",
      "11            54.02         76   6.533537824     11.63  \n",
      "12            44.40       1178    106.454515     11.07  \n",
      "13            41.50        641  56.882505338     11.27  \n",
      "14            51.14         32   2.706603315     11.82  \n",
      "15            46.06         81    6.98760273     11.59  \n",
      "16            51.51        738     65.856387     11.21  \n",
      "17            47.08        144  12.562338001     11.46  \n",
      "18            47.64        159    13.8962805     11.44  \n",
      "19            45.75         50   4.306972038     11.61  \n",
      "20            45.66         37   3.154237494     11.73  \n",
      "21            47.45        562  49.939753117     11.25  \n",
      "22            45.96         93   8.109824237     11.47  \n",
      "23            47.22         52   4.480654554     11.61  \n",
      "24            52.25        139  12.080181605     11.51  \n"
     ]
    }
   ],
   "source": [
    "\n",
    "columns = ['total duration','load duration', 'prompt eval count', 'prompt eval duration','prompt eval rate','eval count','eval duration','eval rate']\n",
    "rows = []\n",
    "current_row = []\n",
    "with open('/Users/adam/Downloads/text1.txt', 'r') as file:\n",
    "    for line in file:\n",
    "        pattern = r\"\\s(\\d+m)?(\\d+(\\.?\\d+)?)\"\n",
    "        result = re.search(pattern, line)\n",
    "        if not result:\n",
    "            continue\n",
    "        result = result.groups()\n",
    "        if result[0] != None:\n",
    "            minutes = int(result[0][:-1])\n",
    "            seconds = float(result[1])\n",
    "            current_row.append(minutes*60 + seconds)\n",
    "        else:\n",
    "            current_row.append(result[1])\n",
    "        if len(current_row) == len(columns):\n",
    "            rows.append(current_row)\n",
    "            current_row = []\n",
    "\n",
    "\n",
    "\n",
    "#readlines, feed int othe reg expression, if there is mins, mult by 60 and add, then add that to the dataframe, if no mins, just add the secions into the dataframe\n",
    "\n",
    "\n",
    "\n",
    "\n",
    "\n",
    "df = pd.DataFrame(rows, columns=columns)\n",
    "print(df)"
   ]
  },
  {
   "cell_type": "code",
   "execution_count": null,
   "id": "f1d0e43c",
   "metadata": {},
   "outputs": [],
   "source": []
  }
 ],
 "metadata": {
  "kernelspec": {
   "display_name": ".venv",
   "language": "python",
   "name": "python3"
  },
  "language_info": {
   "codemirror_mode": {
    "name": "ipython",
    "version": 3
   },
   "file_extension": ".py",
   "mimetype": "text/x-python",
   "name": "python",
   "nbconvert_exporter": "python",
   "pygments_lexer": "ipython3",
   "version": "3.9.6"
  }
 },
 "nbformat": 4,
 "nbformat_minor": 5
}
