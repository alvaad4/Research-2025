{
 "cells": [
  {
   "cell_type": "code",
   "execution_count": 9,
   "id": "945927bf",
   "metadata": {},
   "outputs": [],
   "source": [
    "import re\n",
    "import pandas as pd\n",
    "import seaborn as sns\n",
    "import matplotlib.pyplot as plt"
   ]
  },
  {
   "cell_type": "code",
   "execution_count": null,
   "id": "fd647ff9",
   "metadata": {},
   "outputs": [
    {
     "name": "stdout",
     "output_type": "stream",
     "text": [
      "['4', '36', '16', '86', '185.70', '48', '4', '11.85', '2', '37', '38', '708', '53.60', '25', '2', '12.00', '21', '38', '40', '746', '53.60', '232', '20', '11.36', '7', '37', '32', '670', '47.70', '78', '6', '11.52', '12', '56', '24', '480', '49.98', '133', '11', '11.44', '19', '37', '22', '438', '50.13', '216', '18', '11.38', '46', '36', '21', '419', '50.05', '516', '45', '11.23', '4', '36', '19', '362', '52.37', '47', '4', '11.64', '5', '39', '26', '541', '47.98', '56', '4', '11.54', '21', '36', '16', '305', '52.41', '238', '21', '11.32', '16', '40', '50', '1', '44.89', '171', '14', '11.46', '6', '38', '15', '277', '54.02', '76', '6', '11.63', '36', '41', '923', '44.40', '1178', '11.07', '57', '36', '31', '747', '41.50', '641', '56', '11.27', '3', '36', '20', '391', '51.14', '32', '2', '11.82', '7', '36', '36', '781', '46.06', '81', '6', '11.59', '38', '20', '388', '51.51', '738', '11.21', '13', '56', '28', '594', '47.08', '144', '12', '11.46', '14', '36', '24', '503', '47.64', '159', '13', '11.44', '5', '40', '35', '765', '45.75', '50', '4', '11.61', '3', '36', '36', '788', '45.66', '37', '3', '11.73', '50', '36', '22', '463', '47.45', '562', '49', '11.25', '8', '37', '33', '717', '45.96', '93', '8', '11.47', '4', '36', '21', '444', '47.22', '52', '4', '11.61', '12', '37', '19', '363', '52.25', '139', '12', '11.51']\n"
     ]
    }
   ],
   "source": [
    "\n",
    "columns = ['total duration','load duration', 'prompt eval count', 'prompt eval duration','prompt eval rate','eval count','eval duration','eval rate']\n",
    "rows = []\n",
    "\n",
    "pattern = r'\\s\\d+.?\\d+'\n",
    "\n",
    "with open('/Users/adam/Downloads/text1.txt', 'r') as file:\n",
    "    for line in file:\n",
    "        print(line)\n",
    "        pattern = r\"\\s(\\d+m)?(\\d+(\\.?\\d+)?)\"\n",
    "        result = re.search(pattern, line)\n",
    "        result = result.groups()\n",
    "        if result[0] != None:\n",
    "            rows.append(result[0]*60 + result[1])\n",
    "        else:\n",
    "            rows.append(result[1])\n",
    "\n",
    "print(rows)\n",
    "\n"
   ]
  },
  {
   "cell_type": "code",
   "execution_count": null,
   "id": "f1d0e43c",
   "metadata": {},
   "outputs": [],
   "source": []
  }
 ],
 "metadata": {
  "kernelspec": {
   "display_name": ".venv",
   "language": "python",
   "name": "python3"
  },
  "language_info": {
   "codemirror_mode": {
    "name": "ipython",
    "version": 3
   },
   "file_extension": ".py",
   "mimetype": "text/x-python",
   "name": "python",
   "nbconvert_exporter": "python",
   "pygments_lexer": "ipython3",
   "version": "3.9.6"
  }
 },
 "nbformat": 4,
 "nbformat_minor": 5
}
